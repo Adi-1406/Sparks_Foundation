{
  "nbformat": 4,
  "nbformat_minor": 0,
  "metadata": {
    "colab": {
      "name": "TASK  4 - TO EXPLORE DECISION TREE ALGORITHM.ipynb",
      "provenance": [],
      "collapsed_sections": []
    },
    "kernelspec": {
      "name": "python3",
      "display_name": "Python 3"
    }
  },
  "cells": [
    {
      "cell_type": "markdown",
      "metadata": {
        "id": "MuffZeGF0ish",
        "colab_type": "text"
      },
      "source": [
        "**TASK # 4 - TO EXPLORE DECISION TREE ALGORITHM**\n",
        "\n",
        "For the given ‘Iris’ dataset, create the Decision Tree classifier and\n",
        "visualize it graphically."
      ]
    },
    {
      "cell_type": "code",
      "metadata": {
        "id": "5FEhMxHb0LsZ",
        "colab_type": "code",
        "colab": {}
      },
      "source": [
        "import pandas as pd"
      ],
      "execution_count": null,
      "outputs": []
    },
    {
      "cell_type": "code",
      "metadata": {
        "id": "1jbHjJWv00Xf",
        "colab_type": "code",
        "colab": {
          "base_uri": "https://localhost:8080/",
          "height": 204
        },
        "outputId": "e4dd1870-c34f-437f-bf35-66aca33c12c6"
      },
      "source": [
        "#Download the Iris dataset\n",
        "url = \"https://drive.google.com/file/d/11Iq7YvbWZbt8VXjfm06brx66b10YiwK-/view?usp=sharing\"\n",
        "path = 'https://drive.google.com/uc?export=download&id='+url.split('/')[-2]\n",
        "data = pd.read_csv(path)\n",
        "\n",
        "# Explore the dataset\n",
        "data.head()"
      ],
      "execution_count": null,
      "outputs": [
        {
          "output_type": "execute_result",
          "data": {
            "text/html": [
              "<div>\n",
              "<style scoped>\n",
              "    .dataframe tbody tr th:only-of-type {\n",
              "        vertical-align: middle;\n",
              "    }\n",
              "\n",
              "    .dataframe tbody tr th {\n",
              "        vertical-align: top;\n",
              "    }\n",
              "\n",
              "    .dataframe thead th {\n",
              "        text-align: right;\n",
              "    }\n",
              "</style>\n",
              "<table border=\"1\" class=\"dataframe\">\n",
              "  <thead>\n",
              "    <tr style=\"text-align: right;\">\n",
              "      <th></th>\n",
              "      <th>Id</th>\n",
              "      <th>SepalLengthCm</th>\n",
              "      <th>SepalWidthCm</th>\n",
              "      <th>PetalLengthCm</th>\n",
              "      <th>PetalWidthCm</th>\n",
              "      <th>Species</th>\n",
              "    </tr>\n",
              "  </thead>\n",
              "  <tbody>\n",
              "    <tr>\n",
              "      <th>0</th>\n",
              "      <td>1</td>\n",
              "      <td>5.1</td>\n",
              "      <td>3.5</td>\n",
              "      <td>1.4</td>\n",
              "      <td>0.2</td>\n",
              "      <td>Iris-setosa</td>\n",
              "    </tr>\n",
              "    <tr>\n",
              "      <th>1</th>\n",
              "      <td>2</td>\n",
              "      <td>4.9</td>\n",
              "      <td>3.0</td>\n",
              "      <td>1.4</td>\n",
              "      <td>0.2</td>\n",
              "      <td>Iris-setosa</td>\n",
              "    </tr>\n",
              "    <tr>\n",
              "      <th>2</th>\n",
              "      <td>3</td>\n",
              "      <td>4.7</td>\n",
              "      <td>3.2</td>\n",
              "      <td>1.3</td>\n",
              "      <td>0.2</td>\n",
              "      <td>Iris-setosa</td>\n",
              "    </tr>\n",
              "    <tr>\n",
              "      <th>3</th>\n",
              "      <td>4</td>\n",
              "      <td>4.6</td>\n",
              "      <td>3.1</td>\n",
              "      <td>1.5</td>\n",
              "      <td>0.2</td>\n",
              "      <td>Iris-setosa</td>\n",
              "    </tr>\n",
              "    <tr>\n",
              "      <th>4</th>\n",
              "      <td>5</td>\n",
              "      <td>5.0</td>\n",
              "      <td>3.6</td>\n",
              "      <td>1.4</td>\n",
              "      <td>0.2</td>\n",
              "      <td>Iris-setosa</td>\n",
              "    </tr>\n",
              "  </tbody>\n",
              "</table>\n",
              "</div>"
            ],
            "text/plain": [
              "   Id  SepalLengthCm  SepalWidthCm  PetalLengthCm  PetalWidthCm      Species\n",
              "0   1            5.1           3.5            1.4           0.2  Iris-setosa\n",
              "1   2            4.9           3.0            1.4           0.2  Iris-setosa\n",
              "2   3            4.7           3.2            1.3           0.2  Iris-setosa\n",
              "3   4            4.6           3.1            1.5           0.2  Iris-setosa\n",
              "4   5            5.0           3.6            1.4           0.2  Iris-setosa"
            ]
          },
          "metadata": {
            "tags": []
          },
          "execution_count": 4
        }
      ]
    },
    {
      "cell_type": "code",
      "metadata": {
        "id": "41WRkW-w1MKg",
        "colab_type": "code",
        "colab": {
          "base_uri": "https://localhost:8080/",
          "height": 204
        },
        "outputId": "dcb7d07c-1354-4402-cdb5-42f2c7077d9f"
      },
      "source": [
        "data = data.drop([\"Id\"] , axis = 1)\n",
        "data.head()"
      ],
      "execution_count": null,
      "outputs": [
        {
          "output_type": "execute_result",
          "data": {
            "text/html": [
              "<div>\n",
              "<style scoped>\n",
              "    .dataframe tbody tr th:only-of-type {\n",
              "        vertical-align: middle;\n",
              "    }\n",
              "\n",
              "    .dataframe tbody tr th {\n",
              "        vertical-align: top;\n",
              "    }\n",
              "\n",
              "    .dataframe thead th {\n",
              "        text-align: right;\n",
              "    }\n",
              "</style>\n",
              "<table border=\"1\" class=\"dataframe\">\n",
              "  <thead>\n",
              "    <tr style=\"text-align: right;\">\n",
              "      <th></th>\n",
              "      <th>SepalLengthCm</th>\n",
              "      <th>SepalWidthCm</th>\n",
              "      <th>PetalLengthCm</th>\n",
              "      <th>PetalWidthCm</th>\n",
              "      <th>Species</th>\n",
              "    </tr>\n",
              "  </thead>\n",
              "  <tbody>\n",
              "    <tr>\n",
              "      <th>0</th>\n",
              "      <td>5.1</td>\n",
              "      <td>3.5</td>\n",
              "      <td>1.4</td>\n",
              "      <td>0.2</td>\n",
              "      <td>Iris-setosa</td>\n",
              "    </tr>\n",
              "    <tr>\n",
              "      <th>1</th>\n",
              "      <td>4.9</td>\n",
              "      <td>3.0</td>\n",
              "      <td>1.4</td>\n",
              "      <td>0.2</td>\n",
              "      <td>Iris-setosa</td>\n",
              "    </tr>\n",
              "    <tr>\n",
              "      <th>2</th>\n",
              "      <td>4.7</td>\n",
              "      <td>3.2</td>\n",
              "      <td>1.3</td>\n",
              "      <td>0.2</td>\n",
              "      <td>Iris-setosa</td>\n",
              "    </tr>\n",
              "    <tr>\n",
              "      <th>3</th>\n",
              "      <td>4.6</td>\n",
              "      <td>3.1</td>\n",
              "      <td>1.5</td>\n",
              "      <td>0.2</td>\n",
              "      <td>Iris-setosa</td>\n",
              "    </tr>\n",
              "    <tr>\n",
              "      <th>4</th>\n",
              "      <td>5.0</td>\n",
              "      <td>3.6</td>\n",
              "      <td>1.4</td>\n",
              "      <td>0.2</td>\n",
              "      <td>Iris-setosa</td>\n",
              "    </tr>\n",
              "  </tbody>\n",
              "</table>\n",
              "</div>"
            ],
            "text/plain": [
              "   SepalLengthCm  SepalWidthCm  PetalLengthCm  PetalWidthCm      Species\n",
              "0            5.1           3.5            1.4           0.2  Iris-setosa\n",
              "1            4.9           3.0            1.4           0.2  Iris-setosa\n",
              "2            4.7           3.2            1.3           0.2  Iris-setosa\n",
              "3            4.6           3.1            1.5           0.2  Iris-setosa\n",
              "4            5.0           3.6            1.4           0.2  Iris-setosa"
            ]
          },
          "metadata": {
            "tags": []
          },
          "execution_count": 5
        }
      ]
    },
    {
      "cell_type": "code",
      "metadata": {
        "id": "03SAXcG51TuE",
        "colab_type": "code",
        "colab": {
          "base_uri": "https://localhost:8080/",
          "height": 34
        },
        "outputId": "78f44b9b-f2ce-47e9-c1eb-b37eb9f3bc77"
      },
      "source": [
        "data.shape"
      ],
      "execution_count": null,
      "outputs": [
        {
          "output_type": "execute_result",
          "data": {
            "text/plain": [
              "(150, 5)"
            ]
          },
          "metadata": {
            "tags": []
          },
          "execution_count": 7
        }
      ]
    },
    {
      "cell_type": "code",
      "metadata": {
        "id": "UWFtyIGA1Vnp",
        "colab_type": "code",
        "colab": {
          "base_uri": "https://localhost:8080/",
          "height": 119
        },
        "outputId": "e3e381f7-e7d7-43db-b104-ae7e1b295fde"
      },
      "source": [
        "data.isnull().sum()"
      ],
      "execution_count": null,
      "outputs": [
        {
          "output_type": "execute_result",
          "data": {
            "text/plain": [
              "SepalLengthCm    0\n",
              "SepalWidthCm     0\n",
              "PetalLengthCm    0\n",
              "PetalWidthCm     0\n",
              "Species          0\n",
              "dtype: int64"
            ]
          },
          "metadata": {
            "tags": []
          },
          "execution_count": 22
        }
      ]
    },
    {
      "cell_type": "markdown",
      "metadata": {
        "id": "vJ8hN7_P1ctw",
        "colab_type": "text"
      },
      "source": [
        "**converting varibale data to numerical data**"
      ]
    },
    {
      "cell_type": "code",
      "metadata": {
        "id": "yeRE9TDy1Zgv",
        "colab_type": "code",
        "colab": {}
      },
      "source": [
        "import sklearn\n",
        "from sklearn.preprocessing import LabelEncoder\n",
        "LE = LabelEncoder()"
      ],
      "execution_count": null,
      "outputs": []
    },
    {
      "cell_type": "code",
      "metadata": {
        "id": "DOffGz9_3cmc",
        "colab_type": "code",
        "colab": {}
      },
      "source": [
        "data[data.select_dtypes(include=['object']).columns] = data[data.select_dtypes(include=['object']).columns].apply(LE.fit_transform)"
      ],
      "execution_count": null,
      "outputs": []
    },
    {
      "cell_type": "code",
      "metadata": {
        "id": "QIHr-hEb31V_",
        "colab_type": "code",
        "colab": {
          "base_uri": "https://localhost:8080/",
          "height": 419
        },
        "outputId": "11fd25dc-7579-430c-e845-d8710260d879"
      },
      "source": [
        "data"
      ],
      "execution_count": null,
      "outputs": [
        {
          "output_type": "execute_result",
          "data": {
            "text/html": [
              "<div>\n",
              "<style scoped>\n",
              "    .dataframe tbody tr th:only-of-type {\n",
              "        vertical-align: middle;\n",
              "    }\n",
              "\n",
              "    .dataframe tbody tr th {\n",
              "        vertical-align: top;\n",
              "    }\n",
              "\n",
              "    .dataframe thead th {\n",
              "        text-align: right;\n",
              "    }\n",
              "</style>\n",
              "<table border=\"1\" class=\"dataframe\">\n",
              "  <thead>\n",
              "    <tr style=\"text-align: right;\">\n",
              "      <th></th>\n",
              "      <th>SepalLengthCm</th>\n",
              "      <th>SepalWidthCm</th>\n",
              "      <th>PetalLengthCm</th>\n",
              "      <th>PetalWidthCm</th>\n",
              "      <th>Species</th>\n",
              "    </tr>\n",
              "  </thead>\n",
              "  <tbody>\n",
              "    <tr>\n",
              "      <th>0</th>\n",
              "      <td>5.1</td>\n",
              "      <td>3.5</td>\n",
              "      <td>1.4</td>\n",
              "      <td>0.2</td>\n",
              "      <td>0</td>\n",
              "    </tr>\n",
              "    <tr>\n",
              "      <th>1</th>\n",
              "      <td>4.9</td>\n",
              "      <td>3.0</td>\n",
              "      <td>1.4</td>\n",
              "      <td>0.2</td>\n",
              "      <td>0</td>\n",
              "    </tr>\n",
              "    <tr>\n",
              "      <th>2</th>\n",
              "      <td>4.7</td>\n",
              "      <td>3.2</td>\n",
              "      <td>1.3</td>\n",
              "      <td>0.2</td>\n",
              "      <td>0</td>\n",
              "    </tr>\n",
              "    <tr>\n",
              "      <th>3</th>\n",
              "      <td>4.6</td>\n",
              "      <td>3.1</td>\n",
              "      <td>1.5</td>\n",
              "      <td>0.2</td>\n",
              "      <td>0</td>\n",
              "    </tr>\n",
              "    <tr>\n",
              "      <th>4</th>\n",
              "      <td>5.0</td>\n",
              "      <td>3.6</td>\n",
              "      <td>1.4</td>\n",
              "      <td>0.2</td>\n",
              "      <td>0</td>\n",
              "    </tr>\n",
              "    <tr>\n",
              "      <th>...</th>\n",
              "      <td>...</td>\n",
              "      <td>...</td>\n",
              "      <td>...</td>\n",
              "      <td>...</td>\n",
              "      <td>...</td>\n",
              "    </tr>\n",
              "    <tr>\n",
              "      <th>145</th>\n",
              "      <td>6.7</td>\n",
              "      <td>3.0</td>\n",
              "      <td>5.2</td>\n",
              "      <td>2.3</td>\n",
              "      <td>2</td>\n",
              "    </tr>\n",
              "    <tr>\n",
              "      <th>146</th>\n",
              "      <td>6.3</td>\n",
              "      <td>2.5</td>\n",
              "      <td>5.0</td>\n",
              "      <td>1.9</td>\n",
              "      <td>2</td>\n",
              "    </tr>\n",
              "    <tr>\n",
              "      <th>147</th>\n",
              "      <td>6.5</td>\n",
              "      <td>3.0</td>\n",
              "      <td>5.2</td>\n",
              "      <td>2.0</td>\n",
              "      <td>2</td>\n",
              "    </tr>\n",
              "    <tr>\n",
              "      <th>148</th>\n",
              "      <td>6.2</td>\n",
              "      <td>3.4</td>\n",
              "      <td>5.4</td>\n",
              "      <td>2.3</td>\n",
              "      <td>2</td>\n",
              "    </tr>\n",
              "    <tr>\n",
              "      <th>149</th>\n",
              "      <td>5.9</td>\n",
              "      <td>3.0</td>\n",
              "      <td>5.1</td>\n",
              "      <td>1.8</td>\n",
              "      <td>2</td>\n",
              "    </tr>\n",
              "  </tbody>\n",
              "</table>\n",
              "<p>150 rows × 5 columns</p>\n",
              "</div>"
            ],
            "text/plain": [
              "     SepalLengthCm  SepalWidthCm  PetalLengthCm  PetalWidthCm  Species\n",
              "0              5.1           3.5            1.4           0.2        0\n",
              "1              4.9           3.0            1.4           0.2        0\n",
              "2              4.7           3.2            1.3           0.2        0\n",
              "3              4.6           3.1            1.5           0.2        0\n",
              "4              5.0           3.6            1.4           0.2        0\n",
              "..             ...           ...            ...           ...      ...\n",
              "145            6.7           3.0            5.2           2.3        2\n",
              "146            6.3           2.5            5.0           1.9        2\n",
              "147            6.5           3.0            5.2           2.0        2\n",
              "148            6.2           3.4            5.4           2.3        2\n",
              "149            5.9           3.0            5.1           1.8        2\n",
              "\n",
              "[150 rows x 5 columns]"
            ]
          },
          "metadata": {
            "tags": []
          },
          "execution_count": 31
        }
      ]
    },
    {
      "cell_type": "markdown",
      "metadata": {
        "id": "CY-Qhr9X39Lq",
        "colab_type": "text"
      },
      "source": [
        "**division of data**"
      ]
    },
    {
      "cell_type": "code",
      "metadata": {
        "id": "GxPpFowg4Bnb",
        "colab_type": "code",
        "colab": {}
      },
      "source": [
        "from sklearn.model_selection import train_test_split"
      ],
      "execution_count": null,
      "outputs": []
    },
    {
      "cell_type": "code",
      "metadata": {
        "id": "lHY8k28o4H9_",
        "colab_type": "code",
        "colab": {}
      },
      "source": [
        "data_x = data.drop([\"Species\"], axis = 1)\n",
        "data_y = data.Species"
      ],
      "execution_count": null,
      "outputs": []
    },
    {
      "cell_type": "code",
      "metadata": {
        "id": "y7nSHzik4NmA",
        "colab_type": "code",
        "colab": {}
      },
      "source": [
        "data_x_train, data_x_test, data_y_train, data_y_test = train_test_split(data_x, data_y, test_size = .2, random_state = 0)"
      ],
      "execution_count": null,
      "outputs": []
    },
    {
      "cell_type": "code",
      "metadata": {
        "id": "43m342Sw4Yet",
        "colab_type": "code",
        "colab": {
          "base_uri": "https://localhost:8080/",
          "height": 85
        },
        "outputId": "79e01a94-2599-4892-c580-f6d1d490a601"
      },
      "source": [
        "print(data_x_train.shape)\n",
        "print(data_y_train.shape)\n",
        "print(data_x_test.shape)\n",
        "print(data_y_test.shape)"
      ],
      "execution_count": null,
      "outputs": [
        {
          "output_type": "stream",
          "text": [
            "(120, 4)\n",
            "(120,)\n",
            "(30, 4)\n",
            "(30,)\n"
          ],
          "name": "stdout"
        }
      ]
    },
    {
      "cell_type": "markdown",
      "metadata": {
        "id": "3_xHXfw74eJu",
        "colab_type": "text"
      },
      "source": [
        "**Model creation**"
      ]
    },
    {
      "cell_type": "code",
      "metadata": {
        "id": "-V--vQsD4iKE",
        "colab_type": "code",
        "colab": {}
      },
      "source": [
        "from sklearn.tree import DecisionTreeClassifier"
      ],
      "execution_count": null,
      "outputs": []
    },
    {
      "cell_type": "code",
      "metadata": {
        "id": "Wq4DHHSI7Xuw",
        "colab_type": "code",
        "colab": {}
      },
      "source": [
        "dt = DecisionTreeClassifier(criterion='gini' , max_depth=5)"
      ],
      "execution_count": null,
      "outputs": []
    },
    {
      "cell_type": "code",
      "metadata": {
        "id": "yi1ZZMQ27Z0y",
        "colab_type": "code",
        "colab": {
          "base_uri": "https://localhost:8080/",
          "height": 119
        },
        "outputId": "589f2f41-871a-42b1-fec2-20928de50fb1"
      },
      "source": [
        "dt.fit(data_x_train , data_y_train)"
      ],
      "execution_count": null,
      "outputs": [
        {
          "output_type": "execute_result",
          "data": {
            "text/plain": [
              "DecisionTreeClassifier(ccp_alpha=0.0, class_weight=None, criterion='gini',\n",
              "                       max_depth=5, max_features=None, max_leaf_nodes=None,\n",
              "                       min_impurity_decrease=0.0, min_impurity_split=None,\n",
              "                       min_samples_leaf=1, min_samples_split=2,\n",
              "                       min_weight_fraction_leaf=0.0, presort='deprecated',\n",
              "                       random_state=None, splitter='best')"
            ]
          },
          "metadata": {
            "tags": []
          },
          "execution_count": 39
        }
      ]
    },
    {
      "cell_type": "markdown",
      "metadata": {
        "id": "gG5_II_S7car",
        "colab_type": "text"
      },
      "source": [
        "**Prediction to be done on the builded model**"
      ]
    },
    {
      "cell_type": "code",
      "metadata": {
        "id": "TPaRui_X7iNo",
        "colab_type": "code",
        "colab": {}
      },
      "source": [
        "pred_dt = dt.predict(data_x_test)"
      ],
      "execution_count": null,
      "outputs": []
    },
    {
      "cell_type": "code",
      "metadata": {
        "id": "2_j1GQQc7leo",
        "colab_type": "code",
        "colab": {}
      },
      "source": [
        "from sklearn.metrics import confusion_matrix"
      ],
      "execution_count": null,
      "outputs": []
    },
    {
      "cell_type": "code",
      "metadata": {
        "id": "goYrZKdn7quI",
        "colab_type": "code",
        "colab": {
          "base_uri": "https://localhost:8080/",
          "height": 68
        },
        "outputId": "a75897aa-5521-4f2c-a21d-1c0b4e500799"
      },
      "source": [
        "table_dt = confusion_matrix(pred_dt , data_y_test)\n",
        "table_dt"
      ],
      "execution_count": null,
      "outputs": [
        {
          "output_type": "execute_result",
          "data": {
            "text/plain": [
              "array([[11,  0,  0],\n",
              "       [ 0, 13,  0],\n",
              "       [ 0,  0,  6]])"
            ]
          },
          "metadata": {
            "tags": []
          },
          "execution_count": 42
        }
      ]
    },
    {
      "cell_type": "markdown",
      "metadata": {
        "id": "BeChCjQ67u-z",
        "colab_type": "text"
      },
      "source": [
        "**Model accuracy**"
      ]
    },
    {
      "cell_type": "code",
      "metadata": {
        "id": "xrWBooyL71_B",
        "colab_type": "code",
        "colab": {
          "base_uri": "https://localhost:8080/",
          "height": 34
        },
        "outputId": "afc46397-a9c7-40c3-f221-d7bf430bdcea"
      },
      "source": [
        "table_dt.diagonal().sum()"
      ],
      "execution_count": null,
      "outputs": [
        {
          "output_type": "execute_result",
          "data": {
            "text/plain": [
              "30"
            ]
          },
          "metadata": {
            "tags": []
          },
          "execution_count": 43
        }
      ]
    },
    {
      "cell_type": "code",
      "metadata": {
        "id": "YtpShvyh8B6S",
        "colab_type": "code",
        "colab": {
          "base_uri": "https://localhost:8080/",
          "height": 34
        },
        "outputId": "7f1a0ab5-708f-4d8b-edbe-d0bee094bc39"
      },
      "source": [
        "table_dt.sum()"
      ],
      "execution_count": null,
      "outputs": [
        {
          "output_type": "execute_result",
          "data": {
            "text/plain": [
              "30"
            ]
          },
          "metadata": {
            "tags": []
          },
          "execution_count": 44
        }
      ]
    },
    {
      "cell_type": "code",
      "metadata": {
        "id": "10KJGJqA8EUY",
        "colab_type": "code",
        "colab": {
          "base_uri": "https://localhost:8080/",
          "height": 34
        },
        "outputId": "2d6beba5-dbc3-4edc-b6d5-dfde5ee7726b"
      },
      "source": [
        "acc = table_dt.diagonal().sum() / table_dt.sum() * 100\n",
        "acc"
      ],
      "execution_count": null,
      "outputs": [
        {
          "output_type": "execute_result",
          "data": {
            "text/plain": [
              "100.0"
            ]
          },
          "metadata": {
            "tags": []
          },
          "execution_count": 45
        }
      ]
    },
    {
      "cell_type": "markdown",
      "metadata": {
        "id": "K_sPdJ3G8Jdm",
        "colab_type": "text"
      },
      "source": [
        "**Visualisation of the model built using a desicion tree**"
      ]
    },
    {
      "cell_type": "code",
      "metadata": {
        "id": "b9S-gdJa8TcP",
        "colab_type": "code",
        "colab": {
          "base_uri": "https://localhost:8080/",
          "height": 71
        },
        "outputId": "a0fc8cca-f079-4be7-a89c-a97b3c66e695"
      },
      "source": [
        "from IPython.display import Image  \n",
        "from sklearn.externals.six import StringIO \n",
        "from sklearn.tree import export_graphviz\n",
        "import pydotplus\n",
        "import pydot"
      ],
      "execution_count": null,
      "outputs": [
        {
          "output_type": "stream",
          "text": [
            "/usr/local/lib/python3.6/dist-packages/sklearn/externals/six.py:31: FutureWarning: The module is deprecated in version 0.21 and will be removed in version 0.23 since we've dropped support for Python 2.7. Please rely on the official version of six (https://pypi.org/project/six/).\n",
            "  \"(https://pypi.org/project/six/).\", FutureWarning)\n"
          ],
          "name": "stderr"
        }
      ]
    },
    {
      "cell_type": "code",
      "metadata": {
        "id": "EKh9BwTP8XdA",
        "colab_type": "code",
        "colab": {}
      },
      "source": [
        "from sklearn import tree\n",
        "import graphviz"
      ],
      "execution_count": null,
      "outputs": []
    },
    {
      "cell_type": "code",
      "metadata": {
        "id": "lPBAMu3J8b7b",
        "colab_type": "code",
        "colab": {}
      },
      "source": [
        "data_x_train_names = data_x_train.columns"
      ],
      "execution_count": null,
      "outputs": []
    },
    {
      "cell_type": "code",
      "metadata": {
        "id": "2Wv-2DfY8dcZ",
        "colab_type": "code",
        "colab": {}
      },
      "source": [
        "dot_data = tree.export_graphviz(dt , out_file = None)\n",
        "graph = graphviz.Source(dot_data)"
      ],
      "execution_count": null,
      "outputs": []
    },
    {
      "cell_type": "code",
      "metadata": {
        "id": "lg0lB2b08lFU",
        "colab_type": "code",
        "colab": {}
      },
      "source": [
        "import matplotlib.pyplot as plt"
      ],
      "execution_count": null,
      "outputs": []
    },
    {
      "cell_type": "code",
      "metadata": {
        "id": "6Ya7AGY78oQG",
        "colab_type": "code",
        "colab": {
          "base_uri": "https://localhost:8080/",
          "height": 813
        },
        "outputId": "150d725c-276e-4fe2-821f-12ddbd4dc63d"
      },
      "source": [
        "fig = plt.figure(figsize = (6,6))\n",
        "dot_data = tree.export_graphviz(dt , out_file= None,\n",
        "                               feature_names=data_x_train_names,\n",
        "                               filled= True, rounded = True,\n",
        "                               special_characters= True)\n",
        "graph = graphviz.Source(dot_data)\n",
        "graph"
      ],
      "execution_count": null,
      "outputs": [
        {
          "output_type": "execute_result",
          "data": {
            "text/plain": [
              "<graphviz.files.Source at 0x7fed1095fb00>"
            ],
            "image/svg+xml": "<?xml version=\"1.0\" encoding=\"UTF-8\" standalone=\"no\"?>\n<!DOCTYPE svg PUBLIC \"-//W3C//DTD SVG 1.1//EN\"\n \"http://www.w3.org/Graphics/SVG/1.1/DTD/svg11.dtd\">\n<!-- Generated by graphviz version 2.40.1 (20161225.0304)\n -->\n<!-- Title: Tree Pages: 1 -->\n<svg width=\"875pt\" height=\"581pt\"\n viewBox=\"0.00 0.00 875.00 581.00\" xmlns=\"http://www.w3.org/2000/svg\" xmlns:xlink=\"http://www.w3.org/1999/xlink\">\n<g id=\"graph0\" class=\"graph\" transform=\"scale(1 1) rotate(0) translate(4 577)\">\n<title>Tree</title>\n<polygon fill=\"#ffffff\" stroke=\"transparent\" points=\"-4,4 -4,-577 871,-577 871,4 -4,4\"/>\n<!-- 0 -->\n<g id=\"node1\" class=\"node\">\n<title>0</title>\n<path fill=\"#f7f3fd\" stroke=\"#000000\" d=\"M511.5,-573C511.5,-573 391.5,-573 391.5,-573 385.5,-573 379.5,-567 379.5,-561 379.5,-561 379.5,-517 379.5,-517 379.5,-511 385.5,-505 391.5,-505 391.5,-505 511.5,-505 511.5,-505 517.5,-505 523.5,-511 523.5,-517 523.5,-517 523.5,-561 523.5,-561 523.5,-567 517.5,-573 511.5,-573\"/>\n<text text-anchor=\"start\" x=\"387.5\" y=\"-557.8\" font-family=\"Helvetica,sans-Serif\" font-size=\"14.00\" fill=\"#000000\">PetalWidthCm ≤ 0.8</text>\n<text text-anchor=\"start\" x=\"413.5\" y=\"-542.8\" font-family=\"Helvetica,sans-Serif\" font-size=\"14.00\" fill=\"#000000\">gini = 0.665</text>\n<text text-anchor=\"start\" x=\"403.5\" y=\"-527.8\" font-family=\"Helvetica,sans-Serif\" font-size=\"14.00\" fill=\"#000000\">samples = 120</text>\n<text text-anchor=\"start\" x=\"389.5\" y=\"-512.8\" font-family=\"Helvetica,sans-Serif\" font-size=\"14.00\" fill=\"#000000\">value = [39, 37, 44]</text>\n</g>\n<!-- 1 -->\n<g id=\"node2\" class=\"node\">\n<title>1</title>\n<path fill=\"#e58139\" stroke=\"#000000\" d=\"M423,-461.5C423,-461.5 324,-461.5 324,-461.5 318,-461.5 312,-455.5 312,-449.5 312,-449.5 312,-420.5 312,-420.5 312,-414.5 318,-408.5 324,-408.5 324,-408.5 423,-408.5 423,-408.5 429,-408.5 435,-414.5 435,-420.5 435,-420.5 435,-449.5 435,-449.5 435,-455.5 429,-461.5 423,-461.5\"/>\n<text text-anchor=\"start\" x=\"344\" y=\"-446.3\" font-family=\"Helvetica,sans-Serif\" font-size=\"14.00\" fill=\"#000000\">gini = 0.0</text>\n<text text-anchor=\"start\" x=\"329.5\" y=\"-431.3\" font-family=\"Helvetica,sans-Serif\" font-size=\"14.00\" fill=\"#000000\">samples = 39</text>\n<text text-anchor=\"start\" x=\"320\" y=\"-416.3\" font-family=\"Helvetica,sans-Serif\" font-size=\"14.00\" fill=\"#000000\">value = [39, 0, 0]</text>\n</g>\n<!-- 0&#45;&gt;1 -->\n<g id=\"edge1\" class=\"edge\">\n<title>0&#45;&gt;1</title>\n<path fill=\"none\" stroke=\"#000000\" d=\"M425.9599,-504.9465C417.4509,-493.6012 407.9675,-480.9567 399.4293,-469.5724\"/>\n<polygon fill=\"#000000\" stroke=\"#000000\" points=\"402.2067,-467.4422 393.4066,-461.5422 396.6067,-471.6422 402.2067,-467.4422\"/>\n<text text-anchor=\"middle\" x=\"389.8711\" y=\"-482.5909\" font-family=\"Helvetica,sans-Serif\" font-size=\"14.00\" fill=\"#000000\">True</text>\n</g>\n<!-- 2 -->\n<g id=\"node3\" class=\"node\">\n<title>2</title>\n<path fill=\"#ebe0fb\" stroke=\"#000000\" d=\"M593.5,-469C593.5,-469 465.5,-469 465.5,-469 459.5,-469 453.5,-463 453.5,-457 453.5,-457 453.5,-413 453.5,-413 453.5,-407 459.5,-401 465.5,-401 465.5,-401 593.5,-401 593.5,-401 599.5,-401 605.5,-407 605.5,-413 605.5,-413 605.5,-457 605.5,-457 605.5,-463 599.5,-469 593.5,-469\"/>\n<text text-anchor=\"start\" x=\"461.5\" y=\"-453.8\" font-family=\"Helvetica,sans-Serif\" font-size=\"14.00\" fill=\"#000000\">PetalWidthCm ≤ 1.75</text>\n<text text-anchor=\"start\" x=\"491.5\" y=\"-438.8\" font-family=\"Helvetica,sans-Serif\" font-size=\"14.00\" fill=\"#000000\">gini = 0.496</text>\n<text text-anchor=\"start\" x=\"485.5\" y=\"-423.8\" font-family=\"Helvetica,sans-Serif\" font-size=\"14.00\" fill=\"#000000\">samples = 81</text>\n<text text-anchor=\"start\" x=\"472\" y=\"-408.8\" font-family=\"Helvetica,sans-Serif\" font-size=\"14.00\" fill=\"#000000\">value = [0, 37, 44]</text>\n</g>\n<!-- 0&#45;&gt;2 -->\n<g id=\"edge2\" class=\"edge\">\n<title>0&#45;&gt;2</title>\n<path fill=\"none\" stroke=\"#000000\" d=\"M477.0401,-504.9465C483.6393,-496.1475 490.8246,-486.5672 497.7005,-477.3993\"/>\n<polygon fill=\"#000000\" stroke=\"#000000\" points=\"500.7025,-479.23 503.9025,-469.13 495.1025,-475.03 500.7025,-479.23\"/>\n<text text-anchor=\"middle\" x=\"507.438\" y=\"-490.1787\" font-family=\"Helvetica,sans-Serif\" font-size=\"14.00\" fill=\"#000000\">False</text>\n</g>\n<!-- 3 -->\n<g id=\"node4\" class=\"node\">\n<title>3</title>\n<path fill=\"#4fe88f\" stroke=\"#000000\" d=\"M485,-365C485,-365 348,-365 348,-365 342,-365 336,-359 336,-353 336,-353 336,-309 336,-309 336,-303 342,-297 348,-297 348,-297 485,-297 485,-297 491,-297 497,-303 497,-309 497,-309 497,-353 497,-353 497,-359 491,-365 485,-365\"/>\n<text text-anchor=\"start\" x=\"344\" y=\"-349.8\" font-family=\"Helvetica,sans-Serif\" font-size=\"14.00\" fill=\"#000000\">PetalLengthCm ≤ 4.95</text>\n<text text-anchor=\"start\" x=\"383\" y=\"-334.8\" font-family=\"Helvetica,sans-Serif\" font-size=\"14.00\" fill=\"#000000\">gini = 0.18</text>\n<text text-anchor=\"start\" x=\"372.5\" y=\"-319.8\" font-family=\"Helvetica,sans-Serif\" font-size=\"14.00\" fill=\"#000000\">samples = 40</text>\n<text text-anchor=\"start\" x=\"363\" y=\"-304.8\" font-family=\"Helvetica,sans-Serif\" font-size=\"14.00\" fill=\"#000000\">value = [0, 36, 4]</text>\n</g>\n<!-- 2&#45;&gt;3 -->\n<g id=\"edge3\" class=\"edge\">\n<title>2&#45;&gt;3</title>\n<path fill=\"none\" stroke=\"#000000\" d=\"M492.4996,-400.9465C482.4514,-391.6986 471.4653,-381.5876 461.0474,-371.9994\"/>\n<polygon fill=\"#000000\" stroke=\"#000000\" points=\"463.3118,-369.3267 453.5836,-365.13 458.5714,-374.4773 463.3118,-369.3267\"/>\n</g>\n<!-- 12 -->\n<g id=\"node13\" class=\"node\">\n<title>12</title>\n<path fill=\"#843ee6\" stroke=\"#000000\" d=\"M712,-365C712,-365 575,-365 575,-365 569,-365 563,-359 563,-353 563,-353 563,-309 563,-309 563,-303 569,-297 575,-297 575,-297 712,-297 712,-297 718,-297 724,-303 724,-309 724,-309 724,-353 724,-353 724,-359 718,-365 712,-365\"/>\n<text text-anchor=\"start\" x=\"571\" y=\"-349.8\" font-family=\"Helvetica,sans-Serif\" font-size=\"14.00\" fill=\"#000000\">PetalLengthCm ≤ 4.85</text>\n<text text-anchor=\"start\" x=\"605.5\" y=\"-334.8\" font-family=\"Helvetica,sans-Serif\" font-size=\"14.00\" fill=\"#000000\">gini = 0.048</text>\n<text text-anchor=\"start\" x=\"599.5\" y=\"-319.8\" font-family=\"Helvetica,sans-Serif\" font-size=\"14.00\" fill=\"#000000\">samples = 41</text>\n<text text-anchor=\"start\" x=\"590\" y=\"-304.8\" font-family=\"Helvetica,sans-Serif\" font-size=\"14.00\" fill=\"#000000\">value = [0, 1, 40]</text>\n</g>\n<!-- 2&#45;&gt;12 -->\n<g id=\"edge12\" class=\"edge\">\n<title>2&#45;&gt;12</title>\n<path fill=\"none\" stroke=\"#000000\" d=\"M566.8279,-400.9465C576.965,-391.6986 588.0483,-381.5876 598.5583,-371.9994\"/>\n<polygon fill=\"#000000\" stroke=\"#000000\" points=\"601.0595,-374.4553 606.0883,-365.13 596.3417,-369.284 601.0595,-374.4553\"/>\n</g>\n<!-- 4 -->\n<g id=\"node5\" class=\"node\">\n<title>4</title>\n<path fill=\"#3fe685\" stroke=\"#000000\" d=\"M262.5,-261C262.5,-261 134.5,-261 134.5,-261 128.5,-261 122.5,-255 122.5,-249 122.5,-249 122.5,-205 122.5,-205 122.5,-199 128.5,-193 134.5,-193 134.5,-193 262.5,-193 262.5,-193 268.5,-193 274.5,-199 274.5,-205 274.5,-205 274.5,-249 274.5,-249 274.5,-255 268.5,-261 262.5,-261\"/>\n<text text-anchor=\"start\" x=\"130.5\" y=\"-245.8\" font-family=\"Helvetica,sans-Serif\" font-size=\"14.00\" fill=\"#000000\">PetalWidthCm ≤ 1.65</text>\n<text text-anchor=\"start\" x=\"160.5\" y=\"-230.8\" font-family=\"Helvetica,sans-Serif\" font-size=\"14.00\" fill=\"#000000\">gini = 0.056</text>\n<text text-anchor=\"start\" x=\"154.5\" y=\"-215.8\" font-family=\"Helvetica,sans-Serif\" font-size=\"14.00\" fill=\"#000000\">samples = 35</text>\n<text text-anchor=\"start\" x=\"145\" y=\"-200.8\" font-family=\"Helvetica,sans-Serif\" font-size=\"14.00\" fill=\"#000000\">value = [0, 34, 1]</text>\n</g>\n<!-- 3&#45;&gt;4 -->\n<g id=\"edge4\" class=\"edge\">\n<title>3&#45;&gt;4</title>\n<path fill=\"none\" stroke=\"#000000\" d=\"M345.1186,-296.9465C324.0398,-286.8906 300.8216,-275.814 279.1997,-265.4989\"/>\n<polygon fill=\"#000000\" stroke=\"#000000\" points=\"280.5743,-262.2769 270.0417,-261.13 277.5602,-268.5948 280.5743,-262.2769\"/>\n</g>\n<!-- 7 -->\n<g id=\"node8\" class=\"node\">\n<title>7</title>\n<path fill=\"#d5bdf6\" stroke=\"#000000\" d=\"M480.5,-261C480.5,-261 352.5,-261 352.5,-261 346.5,-261 340.5,-255 340.5,-249 340.5,-249 340.5,-205 340.5,-205 340.5,-199 346.5,-193 352.5,-193 352.5,-193 480.5,-193 480.5,-193 486.5,-193 492.5,-199 492.5,-205 492.5,-205 492.5,-249 492.5,-249 492.5,-255 486.5,-261 480.5,-261\"/>\n<text text-anchor=\"start\" x=\"348.5\" y=\"-245.8\" font-family=\"Helvetica,sans-Serif\" font-size=\"14.00\" fill=\"#000000\">PetalWidthCm ≤ 1.55</text>\n<text text-anchor=\"start\" x=\"383\" y=\"-230.8\" font-family=\"Helvetica,sans-Serif\" font-size=\"14.00\" fill=\"#000000\">gini = 0.48</text>\n<text text-anchor=\"start\" x=\"377\" y=\"-215.8\" font-family=\"Helvetica,sans-Serif\" font-size=\"14.00\" fill=\"#000000\">samples = 5</text>\n<text text-anchor=\"start\" x=\"367\" y=\"-200.8\" font-family=\"Helvetica,sans-Serif\" font-size=\"14.00\" fill=\"#000000\">value = [0, 2, 3]</text>\n</g>\n<!-- 3&#45;&gt;7 -->\n<g id=\"edge7\" class=\"edge\">\n<title>3&#45;&gt;7</title>\n<path fill=\"none\" stroke=\"#000000\" d=\"M416.5,-296.9465C416.5,-288.776 416.5,-279.9318 416.5,-271.3697\"/>\n<polygon fill=\"#000000\" stroke=\"#000000\" points=\"420.0001,-271.13 416.5,-261.13 413.0001,-271.13 420.0001,-271.13\"/>\n</g>\n<!-- 5 -->\n<g id=\"node6\" class=\"node\">\n<title>5</title>\n<path fill=\"#39e581\" stroke=\"#000000\" d=\"M111,-149.5C111,-149.5 12,-149.5 12,-149.5 6,-149.5 0,-143.5 0,-137.5 0,-137.5 0,-108.5 0,-108.5 0,-102.5 6,-96.5 12,-96.5 12,-96.5 111,-96.5 111,-96.5 117,-96.5 123,-102.5 123,-108.5 123,-108.5 123,-137.5 123,-137.5 123,-143.5 117,-149.5 111,-149.5\"/>\n<text text-anchor=\"start\" x=\"32\" y=\"-134.3\" font-family=\"Helvetica,sans-Serif\" font-size=\"14.00\" fill=\"#000000\">gini = 0.0</text>\n<text text-anchor=\"start\" x=\"17.5\" y=\"-119.3\" font-family=\"Helvetica,sans-Serif\" font-size=\"14.00\" fill=\"#000000\">samples = 34</text>\n<text text-anchor=\"start\" x=\"8\" y=\"-104.3\" font-family=\"Helvetica,sans-Serif\" font-size=\"14.00\" fill=\"#000000\">value = [0, 34, 0]</text>\n</g>\n<!-- 4&#45;&gt;5 -->\n<g id=\"edge5\" class=\"edge\">\n<title>4&#45;&gt;5</title>\n<path fill=\"none\" stroke=\"#000000\" d=\"M153.6411,-192.9465C137.8252,-180.9403 120.0927,-167.4791 104.4393,-155.5962\"/>\n<polygon fill=\"#000000\" stroke=\"#000000\" points=\"106.5455,-152.8009 96.4642,-149.5422 102.3129,-158.3764 106.5455,-152.8009\"/>\n</g>\n<!-- 6 -->\n<g id=\"node7\" class=\"node\">\n<title>6</title>\n<path fill=\"#8139e5\" stroke=\"#000000\" d=\"M244,-149.5C244,-149.5 153,-149.5 153,-149.5 147,-149.5 141,-143.5 141,-137.5 141,-137.5 141,-108.5 141,-108.5 141,-102.5 147,-96.5 153,-96.5 153,-96.5 244,-96.5 244,-96.5 250,-96.5 256,-102.5 256,-108.5 256,-108.5 256,-137.5 256,-137.5 256,-143.5 250,-149.5 244,-149.5\"/>\n<text text-anchor=\"start\" x=\"169\" y=\"-134.3\" font-family=\"Helvetica,sans-Serif\" font-size=\"14.00\" fill=\"#000000\">gini = 0.0</text>\n<text text-anchor=\"start\" x=\"159\" y=\"-119.3\" font-family=\"Helvetica,sans-Serif\" font-size=\"14.00\" fill=\"#000000\">samples = 1</text>\n<text text-anchor=\"start\" x=\"149\" y=\"-104.3\" font-family=\"Helvetica,sans-Serif\" font-size=\"14.00\" fill=\"#000000\">value = [0, 0, 1]</text>\n</g>\n<!-- 4&#45;&gt;6 -->\n<g id=\"edge6\" class=\"edge\">\n<title>4&#45;&gt;6</title>\n<path fill=\"none\" stroke=\"#000000\" d=\"M198.5,-192.9465C198.5,-182.2621 198.5,-170.4254 198.5,-159.5742\"/>\n<polygon fill=\"#000000\" stroke=\"#000000\" points=\"202.0001,-159.5421 198.5,-149.5422 195.0001,-159.5422 202.0001,-159.5421\"/>\n</g>\n<!-- 8 -->\n<g id=\"node9\" class=\"node\">\n<title>8</title>\n<path fill=\"#8139e5\" stroke=\"#000000\" d=\"M377,-149.5C377,-149.5 286,-149.5 286,-149.5 280,-149.5 274,-143.5 274,-137.5 274,-137.5 274,-108.5 274,-108.5 274,-102.5 280,-96.5 286,-96.5 286,-96.5 377,-96.5 377,-96.5 383,-96.5 389,-102.5 389,-108.5 389,-108.5 389,-137.5 389,-137.5 389,-143.5 383,-149.5 377,-149.5\"/>\n<text text-anchor=\"start\" x=\"302\" y=\"-134.3\" font-family=\"Helvetica,sans-Serif\" font-size=\"14.00\" fill=\"#000000\">gini = 0.0</text>\n<text text-anchor=\"start\" x=\"292\" y=\"-119.3\" font-family=\"Helvetica,sans-Serif\" font-size=\"14.00\" fill=\"#000000\">samples = 2</text>\n<text text-anchor=\"start\" x=\"282\" y=\"-104.3\" font-family=\"Helvetica,sans-Serif\" font-size=\"14.00\" fill=\"#000000\">value = [0, 0, 2]</text>\n</g>\n<!-- 7&#45;&gt;8 -->\n<g id=\"edge8\" class=\"edge\">\n<title>7&#45;&gt;8</title>\n<path fill=\"none\" stroke=\"#000000\" d=\"M388.6678,-192.9465C379.3952,-181.6012 369.0608,-168.9567 359.7563,-157.5724\"/>\n<polygon fill=\"#000000\" stroke=\"#000000\" points=\"362.2315,-155.0701 353.1931,-149.5422 356.8115,-159.5 362.2315,-155.0701\"/>\n</g>\n<!-- 9 -->\n<g id=\"node10\" class=\"node\">\n<title>9</title>\n<path fill=\"#9cf2c0\" stroke=\"#000000\" d=\"M556,-157C556,-157 419,-157 419,-157 413,-157 407,-151 407,-145 407,-145 407,-101 407,-101 407,-95 413,-89 419,-89 419,-89 556,-89 556,-89 562,-89 568,-95 568,-101 568,-101 568,-145 568,-145 568,-151 562,-157 556,-157\"/>\n<text text-anchor=\"start\" x=\"415\" y=\"-141.8\" font-family=\"Helvetica,sans-Serif\" font-size=\"14.00\" fill=\"#000000\">PetalLengthCm ≤ 5.45</text>\n<text text-anchor=\"start\" x=\"449.5\" y=\"-126.8\" font-family=\"Helvetica,sans-Serif\" font-size=\"14.00\" fill=\"#000000\">gini = 0.444</text>\n<text text-anchor=\"start\" x=\"448\" y=\"-111.8\" font-family=\"Helvetica,sans-Serif\" font-size=\"14.00\" fill=\"#000000\">samples = 3</text>\n<text text-anchor=\"start\" x=\"438\" y=\"-96.8\" font-family=\"Helvetica,sans-Serif\" font-size=\"14.00\" fill=\"#000000\">value = [0, 2, 1]</text>\n</g>\n<!-- 7&#45;&gt;9 -->\n<g id=\"edge9\" class=\"edge\">\n<title>7&#45;&gt;9</title>\n<path fill=\"none\" stroke=\"#000000\" d=\"M439.7481,-192.9465C445.755,-184.1475 452.2955,-174.5672 458.5543,-165.3993\"/>\n<polygon fill=\"#000000\" stroke=\"#000000\" points=\"461.452,-167.3623 464.1997,-157.13 455.6707,-163.4155 461.452,-167.3623\"/>\n</g>\n<!-- 10 -->\n<g id=\"node11\" class=\"node\">\n<title>10</title>\n<path fill=\"#39e581\" stroke=\"#000000\" d=\"M466,-53C466,-53 375,-53 375,-53 369,-53 363,-47 363,-41 363,-41 363,-12 363,-12 363,-6 369,0 375,0 375,0 466,0 466,0 472,0 478,-6 478,-12 478,-12 478,-41 478,-41 478,-47 472,-53 466,-53\"/>\n<text text-anchor=\"start\" x=\"391\" y=\"-37.8\" font-family=\"Helvetica,sans-Serif\" font-size=\"14.00\" fill=\"#000000\">gini = 0.0</text>\n<text text-anchor=\"start\" x=\"381\" y=\"-22.8\" font-family=\"Helvetica,sans-Serif\" font-size=\"14.00\" fill=\"#000000\">samples = 2</text>\n<text text-anchor=\"start\" x=\"371\" y=\"-7.8\" font-family=\"Helvetica,sans-Serif\" font-size=\"14.00\" fill=\"#000000\">value = [0, 2, 0]</text>\n</g>\n<!-- 9&#45;&gt;10 -->\n<g id=\"edge10\" class=\"edge\">\n<title>9&#45;&gt;10</title>\n<path fill=\"none\" stroke=\"#000000\" d=\"M463.8783,-88.9777C457.7113,-80.0954 451.0539,-70.5067 444.8499,-61.5711\"/>\n<polygon fill=\"#000000\" stroke=\"#000000\" points=\"447.6497,-59.4666 439.0715,-53.2485 441.8997,-63.4589 447.6497,-59.4666\"/>\n</g>\n<!-- 11 -->\n<g id=\"node12\" class=\"node\">\n<title>11</title>\n<path fill=\"#8139e5\" stroke=\"#000000\" d=\"M599,-53C599,-53 508,-53 508,-53 502,-53 496,-47 496,-41 496,-41 496,-12 496,-12 496,-6 502,0 508,0 508,0 599,0 599,0 605,0 611,-6 611,-12 611,-12 611,-41 611,-41 611,-47 605,-53 599,-53\"/>\n<text text-anchor=\"start\" x=\"524\" y=\"-37.8\" font-family=\"Helvetica,sans-Serif\" font-size=\"14.00\" fill=\"#000000\">gini = 0.0</text>\n<text text-anchor=\"start\" x=\"514\" y=\"-22.8\" font-family=\"Helvetica,sans-Serif\" font-size=\"14.00\" fill=\"#000000\">samples = 1</text>\n<text text-anchor=\"start\" x=\"504\" y=\"-7.8\" font-family=\"Helvetica,sans-Serif\" font-size=\"14.00\" fill=\"#000000\">value = [0, 0, 1]</text>\n</g>\n<!-- 9&#45;&gt;11 -->\n<g id=\"edge11\" class=\"edge\">\n<title>9&#45;&gt;11</title>\n<path fill=\"none\" stroke=\"#000000\" d=\"M510.7691,-88.9777C516.844,-80.0954 523.4021,-70.5067 529.5135,-61.5711\"/>\n<polygon fill=\"#000000\" stroke=\"#000000\" points=\"532.4493,-63.4785 535.2057,-53.2485 526.6714,-59.5267 532.4493,-63.4785\"/>\n</g>\n<!-- 13 -->\n<g id=\"node14\" class=\"node\">\n<title>13</title>\n<path fill=\"#ffffff\" stroke=\"#000000\" d=\"M714,-261C714,-261 573,-261 573,-261 567,-261 561,-255 561,-249 561,-249 561,-205 561,-205 561,-199 567,-193 573,-193 573,-193 714,-193 714,-193 720,-193 726,-199 726,-205 726,-205 726,-249 726,-249 726,-255 720,-261 714,-261\"/>\n<text text-anchor=\"start\" x=\"569\" y=\"-245.8\" font-family=\"Helvetica,sans-Serif\" font-size=\"14.00\" fill=\"#000000\">SepalLengthCm ≤ 5.95</text>\n<text text-anchor=\"start\" x=\"614\" y=\"-230.8\" font-family=\"Helvetica,sans-Serif\" font-size=\"14.00\" fill=\"#000000\">gini = 0.5</text>\n<text text-anchor=\"start\" x=\"604\" y=\"-215.8\" font-family=\"Helvetica,sans-Serif\" font-size=\"14.00\" fill=\"#000000\">samples = 2</text>\n<text text-anchor=\"start\" x=\"594\" y=\"-200.8\" font-family=\"Helvetica,sans-Serif\" font-size=\"14.00\" fill=\"#000000\">value = [0, 1, 1]</text>\n</g>\n<!-- 12&#45;&gt;13 -->\n<g id=\"edge13\" class=\"edge\">\n<title>12&#45;&gt;13</title>\n<path fill=\"none\" stroke=\"#000000\" d=\"M643.5,-296.9465C643.5,-288.776 643.5,-279.9318 643.5,-271.3697\"/>\n<polygon fill=\"#000000\" stroke=\"#000000\" points=\"647.0001,-271.13 643.5,-261.13 640.0001,-271.13 647.0001,-271.13\"/>\n</g>\n<!-- 16 -->\n<g id=\"node17\" class=\"node\">\n<title>16</title>\n<path fill=\"#8139e5\" stroke=\"#000000\" d=\"M855,-253.5C855,-253.5 756,-253.5 756,-253.5 750,-253.5 744,-247.5 744,-241.5 744,-241.5 744,-212.5 744,-212.5 744,-206.5 750,-200.5 756,-200.5 756,-200.5 855,-200.5 855,-200.5 861,-200.5 867,-206.5 867,-212.5 867,-212.5 867,-241.5 867,-241.5 867,-247.5 861,-253.5 855,-253.5\"/>\n<text text-anchor=\"start\" x=\"776\" y=\"-238.3\" font-family=\"Helvetica,sans-Serif\" font-size=\"14.00\" fill=\"#000000\">gini = 0.0</text>\n<text text-anchor=\"start\" x=\"761.5\" y=\"-223.3\" font-family=\"Helvetica,sans-Serif\" font-size=\"14.00\" fill=\"#000000\">samples = 39</text>\n<text text-anchor=\"start\" x=\"752\" y=\"-208.3\" font-family=\"Helvetica,sans-Serif\" font-size=\"14.00\" fill=\"#000000\">value = [0, 0, 39]</text>\n</g>\n<!-- 12&#45;&gt;16 -->\n<g id=\"edge16\" class=\"edge\">\n<title>12&#45;&gt;16</title>\n<path fill=\"none\" stroke=\"#000000\" d=\"M696.5449,-296.9465C715.5043,-284.775 736.7927,-271.1084 755.4879,-259.1066\"/>\n<polygon fill=\"#000000\" stroke=\"#000000\" points=\"757.6311,-261.8898 764.1555,-253.5422 753.8495,-255.9992 757.6311,-261.8898\"/>\n</g>\n<!-- 14 -->\n<g id=\"node15\" class=\"node\">\n<title>14</title>\n<path fill=\"#39e581\" stroke=\"#000000\" d=\"M689,-149.5C689,-149.5 598,-149.5 598,-149.5 592,-149.5 586,-143.5 586,-137.5 586,-137.5 586,-108.5 586,-108.5 586,-102.5 592,-96.5 598,-96.5 598,-96.5 689,-96.5 689,-96.5 695,-96.5 701,-102.5 701,-108.5 701,-108.5 701,-137.5 701,-137.5 701,-143.5 695,-149.5 689,-149.5\"/>\n<text text-anchor=\"start\" x=\"614\" y=\"-134.3\" font-family=\"Helvetica,sans-Serif\" font-size=\"14.00\" fill=\"#000000\">gini = 0.0</text>\n<text text-anchor=\"start\" x=\"604\" y=\"-119.3\" font-family=\"Helvetica,sans-Serif\" font-size=\"14.00\" fill=\"#000000\">samples = 1</text>\n<text text-anchor=\"start\" x=\"594\" y=\"-104.3\" font-family=\"Helvetica,sans-Serif\" font-size=\"14.00\" fill=\"#000000\">value = [0, 1, 0]</text>\n</g>\n<!-- 13&#45;&gt;14 -->\n<g id=\"edge14\" class=\"edge\">\n<title>13&#45;&gt;14</title>\n<path fill=\"none\" stroke=\"#000000\" d=\"M643.5,-192.9465C643.5,-182.2621 643.5,-170.4254 643.5,-159.5742\"/>\n<polygon fill=\"#000000\" stroke=\"#000000\" points=\"647.0001,-159.5421 643.5,-149.5422 640.0001,-159.5422 647.0001,-159.5421\"/>\n</g>\n<!-- 15 -->\n<g id=\"node16\" class=\"node\">\n<title>15</title>\n<path fill=\"#8139e5\" stroke=\"#000000\" d=\"M822,-149.5C822,-149.5 731,-149.5 731,-149.5 725,-149.5 719,-143.5 719,-137.5 719,-137.5 719,-108.5 719,-108.5 719,-102.5 725,-96.5 731,-96.5 731,-96.5 822,-96.5 822,-96.5 828,-96.5 834,-102.5 834,-108.5 834,-108.5 834,-137.5 834,-137.5 834,-143.5 828,-149.5 822,-149.5\"/>\n<text text-anchor=\"start\" x=\"747\" y=\"-134.3\" font-family=\"Helvetica,sans-Serif\" font-size=\"14.00\" fill=\"#000000\">gini = 0.0</text>\n<text text-anchor=\"start\" x=\"737\" y=\"-119.3\" font-family=\"Helvetica,sans-Serif\" font-size=\"14.00\" fill=\"#000000\">samples = 1</text>\n<text text-anchor=\"start\" x=\"727\" y=\"-104.3\" font-family=\"Helvetica,sans-Serif\" font-size=\"14.00\" fill=\"#000000\">value = [0, 0, 1]</text>\n</g>\n<!-- 13&#45;&gt;15 -->\n<g id=\"edge15\" class=\"edge\">\n<title>13&#45;&gt;15</title>\n<path fill=\"none\" stroke=\"#000000\" d=\"M687.0492,-192.9465C702.2625,-181.0504 719.3023,-167.726 734.3957,-155.9237\"/>\n<polygon fill=\"#000000\" stroke=\"#000000\" points=\"736.8351,-158.4592 742.5567,-149.5422 732.5231,-152.9449 736.8351,-158.4592\"/>\n</g>\n</g>\n</svg>\n"
          },
          "metadata": {
            "tags": []
          },
          "execution_count": 51
        },
        {
          "output_type": "display_data",
          "data": {
            "text/plain": [
              "<Figure size 432x432 with 0 Axes>"
            ]
          },
          "metadata": {
            "tags": []
          }
        }
      ]
    },
    {
      "cell_type": "markdown",
      "metadata": {
        "id": "azTDZGoW8tPx",
        "colab_type": "text"
      },
      "source": [
        "**Feeding test data to classifier**"
      ]
    },
    {
      "cell_type": "code",
      "metadata": {
        "id": "JTuoKszl8shJ",
        "colab_type": "code",
        "colab": {}
      },
      "source": [
        "dt1 = DecisionTreeClassifier(criterion='gini' , max_depth=5)"
      ],
      "execution_count": null,
      "outputs": []
    },
    {
      "cell_type": "code",
      "metadata": {
        "id": "225CeoZQ80j_",
        "colab_type": "code",
        "colab": {
          "base_uri": "https://localhost:8080/",
          "height": 119
        },
        "outputId": "ddcdf77d-4156-4647-b5a9-3fedd11750fd"
      },
      "source": [
        "dt1.fit(data_x_test , data_y_test)"
      ],
      "execution_count": null,
      "outputs": [
        {
          "output_type": "execute_result",
          "data": {
            "text/plain": [
              "DecisionTreeClassifier(ccp_alpha=0.0, class_weight=None, criterion='gini',\n",
              "                       max_depth=5, max_features=None, max_leaf_nodes=None,\n",
              "                       min_impurity_decrease=0.0, min_impurity_split=None,\n",
              "                       min_samples_leaf=1, min_samples_split=2,\n",
              "                       min_weight_fraction_leaf=0.0, presort='deprecated',\n",
              "                       random_state=None, splitter='best')"
            ]
          },
          "metadata": {
            "tags": []
          },
          "execution_count": 53
        }
      ]
    },
    {
      "cell_type": "code",
      "metadata": {
        "id": "_Rnjz18x84TX",
        "colab_type": "code",
        "colab": {}
      },
      "source": [
        "data_x_test_names = data_x_test.columns"
      ],
      "execution_count": null,
      "outputs": []
    },
    {
      "cell_type": "code",
      "metadata": {
        "id": "J5HnBAuw9AS2",
        "colab_type": "code",
        "colab": {}
      },
      "source": [
        "dot_data1 = tree.export_graphviz(dt1 , out_file = None)\n",
        "graph1 = graphviz.Source(dot_data1)"
      ],
      "execution_count": null,
      "outputs": []
    },
    {
      "cell_type": "code",
      "metadata": {
        "id": "hVcw_72J9Cs5",
        "colab_type": "code",
        "colab": {
          "base_uri": "https://localhost:8080/",
          "height": 674
        },
        "outputId": "0d7da4cd-1744-4245-cde3-bb285dde8d9b"
      },
      "source": [
        "fig = plt.figure(figsize = (6,6))\n",
        "dot_data1 = tree.export_graphviz(dt1 , out_file= None,\n",
        "                               feature_names=data_x_test_names,\n",
        "                               filled= True, rounded = True,\n",
        "                               special_characters= True)\n",
        "graph1 = graphviz.Source(dot_data1)\n",
        "graph1"
      ],
      "execution_count": null,
      "outputs": [
        {
          "output_type": "execute_result",
          "data": {
            "text/plain": [
              "<graphviz.files.Source at 0x7fed108fd4a8>"
            ],
            "image/svg+xml": "<?xml version=\"1.0\" encoding=\"UTF-8\" standalone=\"no\"?>\n<!DOCTYPE svg PUBLIC \"-//W3C//DTD SVG 1.1//EN\"\n \"http://www.w3.org/Graphics/SVG/1.1/DTD/svg11.dtd\">\n<!-- Generated by graphviz version 2.40.1 (20161225.0304)\n -->\n<!-- Title: Tree Pages: 1 -->\n<svg width=\"439pt\" height=\"477pt\"\n viewBox=\"0.00 0.00 439.00 477.00\" xmlns=\"http://www.w3.org/2000/svg\" xmlns:xlink=\"http://www.w3.org/1999/xlink\">\n<g id=\"graph0\" class=\"graph\" transform=\"scale(1 1) rotate(0) translate(4 473)\">\n<title>Tree</title>\n<polygon fill=\"#ffffff\" stroke=\"transparent\" points=\"-4,4 -4,-473 435,-473 435,4 -4,4\"/>\n<!-- 0 -->\n<g id=\"node1\" class=\"node\">\n<title>0</title>\n<path fill=\"#eafcf2\" stroke=\"#000000\" d=\"M205.5,-469C205.5,-469 77.5,-469 77.5,-469 71.5,-469 65.5,-463 65.5,-457 65.5,-457 65.5,-413 65.5,-413 65.5,-407 71.5,-401 77.5,-401 77.5,-401 205.5,-401 205.5,-401 211.5,-401 217.5,-407 217.5,-413 217.5,-413 217.5,-457 217.5,-457 217.5,-463 211.5,-469 205.5,-469\"/>\n<text text-anchor=\"start\" x=\"73.5\" y=\"-453.8\" font-family=\"Helvetica,sans-Serif\" font-size=\"14.00\" fill=\"#000000\">PetalLengthCm ≤ 2.6</text>\n<text text-anchor=\"start\" x=\"103.5\" y=\"-438.8\" font-family=\"Helvetica,sans-Serif\" font-size=\"14.00\" fill=\"#000000\">gini = 0.638</text>\n<text text-anchor=\"start\" x=\"97.5\" y=\"-423.8\" font-family=\"Helvetica,sans-Serif\" font-size=\"14.00\" fill=\"#000000\">samples = 30</text>\n<text text-anchor=\"start\" x=\"84\" y=\"-408.8\" font-family=\"Helvetica,sans-Serif\" font-size=\"14.00\" fill=\"#000000\">value = [11, 13, 6]</text>\n</g>\n<!-- 1 -->\n<g id=\"node2\" class=\"node\">\n<title>1</title>\n<path fill=\"#e58139\" stroke=\"#000000\" d=\"M111,-357.5C111,-357.5 12,-357.5 12,-357.5 6,-357.5 0,-351.5 0,-345.5 0,-345.5 0,-316.5 0,-316.5 0,-310.5 6,-304.5 12,-304.5 12,-304.5 111,-304.5 111,-304.5 117,-304.5 123,-310.5 123,-316.5 123,-316.5 123,-345.5 123,-345.5 123,-351.5 117,-357.5 111,-357.5\"/>\n<text text-anchor=\"start\" x=\"32\" y=\"-342.3\" font-family=\"Helvetica,sans-Serif\" font-size=\"14.00\" fill=\"#000000\">gini = 0.0</text>\n<text text-anchor=\"start\" x=\"17.5\" y=\"-327.3\" font-family=\"Helvetica,sans-Serif\" font-size=\"14.00\" fill=\"#000000\">samples = 11</text>\n<text text-anchor=\"start\" x=\"8\" y=\"-312.3\" font-family=\"Helvetica,sans-Serif\" font-size=\"14.00\" fill=\"#000000\">value = [11, 0, 0]</text>\n</g>\n<!-- 0&#45;&gt;1 -->\n<g id=\"edge1\" class=\"edge\">\n<title>0&#45;&gt;1</title>\n<path fill=\"none\" stroke=\"#000000\" d=\"M115.305,-400.9465C106.5778,-389.6012 96.8513,-376.9567 88.0941,-365.5724\"/>\n<polygon fill=\"#000000\" stroke=\"#000000\" points=\"90.7884,-363.3344 81.917,-357.5422 85.24,-367.6024 90.7884,-363.3344\"/>\n<text text-anchor=\"middle\" x=\"78.6836\" y=\"-378.6322\" font-family=\"Helvetica,sans-Serif\" font-size=\"14.00\" fill=\"#000000\">True</text>\n</g>\n<!-- 2 -->\n<g id=\"node3\" class=\"node\">\n<title>2</title>\n<path fill=\"#94f1bb\" stroke=\"#000000\" d=\"M290,-365C290,-365 153,-365 153,-365 147,-365 141,-359 141,-353 141,-353 141,-309 141,-309 141,-303 147,-297 153,-297 153,-297 290,-297 290,-297 296,-297 302,-303 302,-309 302,-309 302,-353 302,-353 302,-359 296,-365 290,-365\"/>\n<text text-anchor=\"start\" x=\"149\" y=\"-349.8\" font-family=\"Helvetica,sans-Serif\" font-size=\"14.00\" fill=\"#000000\">PetalLengthCm ≤ 4.75</text>\n<text text-anchor=\"start\" x=\"183.5\" y=\"-334.8\" font-family=\"Helvetica,sans-Serif\" font-size=\"14.00\" fill=\"#000000\">gini = 0.432</text>\n<text text-anchor=\"start\" x=\"177.5\" y=\"-319.8\" font-family=\"Helvetica,sans-Serif\" font-size=\"14.00\" fill=\"#000000\">samples = 19</text>\n<text text-anchor=\"start\" x=\"168\" y=\"-304.8\" font-family=\"Helvetica,sans-Serif\" font-size=\"14.00\" fill=\"#000000\">value = [0, 13, 6]</text>\n</g>\n<!-- 0&#45;&gt;2 -->\n<g id=\"edge2\" class=\"edge\">\n<title>0&#45;&gt;2</title>\n<path fill=\"none\" stroke=\"#000000\" d=\"M167.695,-400.9465C174.5325,-392.0578 181.9834,-382.3716 189.101,-373.1188\"/>\n<polygon fill=\"#000000\" stroke=\"#000000\" points=\"191.9232,-375.1903 195.2462,-365.13 186.3748,-370.9223 191.9232,-375.1903\"/>\n<text text-anchor=\"middle\" x=\"198.4796\" y=\"-386.22\" font-family=\"Helvetica,sans-Serif\" font-size=\"14.00\" fill=\"#000000\">False</text>\n</g>\n<!-- 3 -->\n<g id=\"node4\" class=\"node\">\n<title>3</title>\n<path fill=\"#39e581\" stroke=\"#000000\" d=\"M195,-253.5C195,-253.5 96,-253.5 96,-253.5 90,-253.5 84,-247.5 84,-241.5 84,-241.5 84,-212.5 84,-212.5 84,-206.5 90,-200.5 96,-200.5 96,-200.5 195,-200.5 195,-200.5 201,-200.5 207,-206.5 207,-212.5 207,-212.5 207,-241.5 207,-241.5 207,-247.5 201,-253.5 195,-253.5\"/>\n<text text-anchor=\"start\" x=\"116\" y=\"-238.3\" font-family=\"Helvetica,sans-Serif\" font-size=\"14.00\" fill=\"#000000\">gini = 0.0</text>\n<text text-anchor=\"start\" x=\"101.5\" y=\"-223.3\" font-family=\"Helvetica,sans-Serif\" font-size=\"14.00\" fill=\"#000000\">samples = 12</text>\n<text text-anchor=\"start\" x=\"92\" y=\"-208.3\" font-family=\"Helvetica,sans-Serif\" font-size=\"14.00\" fill=\"#000000\">value = [0, 12, 0]</text>\n</g>\n<!-- 2&#45;&gt;3 -->\n<g id=\"edge3\" class=\"edge\">\n<title>2&#45;&gt;3</title>\n<path fill=\"none\" stroke=\"#000000\" d=\"M196.6148,-296.9465C188.4044,-285.7113 179.2631,-273.2021 171.007,-261.9043\"/>\n<polygon fill=\"#000000\" stroke=\"#000000\" points=\"173.6223,-259.551 164.8962,-253.5422 167.9705,-263.6812 173.6223,-259.551\"/>\n</g>\n<!-- 4 -->\n<g id=\"node5\" class=\"node\">\n<title>4</title>\n<path fill=\"#965ae9\" stroke=\"#000000\" d=\"M357.5,-261C357.5,-261 237.5,-261 237.5,-261 231.5,-261 225.5,-255 225.5,-249 225.5,-249 225.5,-205 225.5,-205 225.5,-199 231.5,-193 237.5,-193 237.5,-193 357.5,-193 357.5,-193 363.5,-193 369.5,-199 369.5,-205 369.5,-205 369.5,-249 369.5,-249 369.5,-255 363.5,-261 357.5,-261\"/>\n<text text-anchor=\"start\" x=\"233.5\" y=\"-245.8\" font-family=\"Helvetica,sans-Serif\" font-size=\"14.00\" fill=\"#000000\">PetalWidthCm ≤ 1.6</text>\n<text text-anchor=\"start\" x=\"259.5\" y=\"-230.8\" font-family=\"Helvetica,sans-Serif\" font-size=\"14.00\" fill=\"#000000\">gini = 0.245</text>\n<text text-anchor=\"start\" x=\"258\" y=\"-215.8\" font-family=\"Helvetica,sans-Serif\" font-size=\"14.00\" fill=\"#000000\">samples = 7</text>\n<text text-anchor=\"start\" x=\"248\" y=\"-200.8\" font-family=\"Helvetica,sans-Serif\" font-size=\"14.00\" fill=\"#000000\">value = [0, 1, 6]</text>\n</g>\n<!-- 2&#45;&gt;4 -->\n<g id=\"edge4\" class=\"edge\">\n<title>2&#45;&gt;4</title>\n<path fill=\"none\" stroke=\"#000000\" d=\"M246.3852,-296.9465C252.8153,-288.1475 259.8163,-278.5672 266.5159,-269.3993\"/>\n<polygon fill=\"#000000\" stroke=\"#000000\" points=\"269.4845,-271.269 272.5588,-261.13 263.8328,-267.1389 269.4845,-271.269\"/>\n</g>\n<!-- 5 -->\n<g id=\"node6\" class=\"node\">\n<title>5</title>\n<path fill=\"#ffffff\" stroke=\"#000000\" d=\"M285.5,-157C285.5,-157 157.5,-157 157.5,-157 151.5,-157 145.5,-151 145.5,-145 145.5,-145 145.5,-101 145.5,-101 145.5,-95 151.5,-89 157.5,-89 157.5,-89 285.5,-89 285.5,-89 291.5,-89 297.5,-95 297.5,-101 297.5,-101 297.5,-145 297.5,-145 297.5,-151 291.5,-157 285.5,-157\"/>\n<text text-anchor=\"start\" x=\"153.5\" y=\"-141.8\" font-family=\"Helvetica,sans-Serif\" font-size=\"14.00\" fill=\"#000000\">PetalLengthCm ≤ 5.2</text>\n<text text-anchor=\"start\" x=\"192\" y=\"-126.8\" font-family=\"Helvetica,sans-Serif\" font-size=\"14.00\" fill=\"#000000\">gini = 0.5</text>\n<text text-anchor=\"start\" x=\"182\" y=\"-111.8\" font-family=\"Helvetica,sans-Serif\" font-size=\"14.00\" fill=\"#000000\">samples = 2</text>\n<text text-anchor=\"start\" x=\"172\" y=\"-96.8\" font-family=\"Helvetica,sans-Serif\" font-size=\"14.00\" fill=\"#000000\">value = [0, 1, 1]</text>\n</g>\n<!-- 4&#45;&gt;5 -->\n<g id=\"edge5\" class=\"edge\">\n<title>4&#45;&gt;5</title>\n<path fill=\"none\" stroke=\"#000000\" d=\"M272.6148,-192.9465C266.1847,-184.1475 259.1837,-174.5672 252.4841,-165.3993\"/>\n<polygon fill=\"#000000\" stroke=\"#000000\" points=\"255.1672,-163.1389 246.4412,-157.13 249.5155,-167.269 255.1672,-163.1389\"/>\n</g>\n<!-- 8 -->\n<g id=\"node9\" class=\"node\">\n<title>8</title>\n<path fill=\"#8139e5\" stroke=\"#000000\" d=\"M419,-149.5C419,-149.5 328,-149.5 328,-149.5 322,-149.5 316,-143.5 316,-137.5 316,-137.5 316,-108.5 316,-108.5 316,-102.5 322,-96.5 328,-96.5 328,-96.5 419,-96.5 419,-96.5 425,-96.5 431,-102.5 431,-108.5 431,-108.5 431,-137.5 431,-137.5 431,-143.5 425,-149.5 419,-149.5\"/>\n<text text-anchor=\"start\" x=\"344\" y=\"-134.3\" font-family=\"Helvetica,sans-Serif\" font-size=\"14.00\" fill=\"#000000\">gini = 0.0</text>\n<text text-anchor=\"start\" x=\"334\" y=\"-119.3\" font-family=\"Helvetica,sans-Serif\" font-size=\"14.00\" fill=\"#000000\">samples = 5</text>\n<text text-anchor=\"start\" x=\"324\" y=\"-104.3\" font-family=\"Helvetica,sans-Serif\" font-size=\"14.00\" fill=\"#000000\">value = [0, 0, 5]</text>\n</g>\n<!-- 4&#45;&gt;8 -->\n<g id=\"edge8\" class=\"edge\">\n<title>4&#45;&gt;8</title>\n<path fill=\"none\" stroke=\"#000000\" d=\"M322.3852,-192.9465C330.5956,-181.7113 339.7369,-169.2021 347.993,-157.9043\"/>\n<polygon fill=\"#000000\" stroke=\"#000000\" points=\"351.0295,-159.6812 354.1038,-149.5422 345.3777,-155.551 351.0295,-159.6812\"/>\n</g>\n<!-- 6 -->\n<g id=\"node7\" class=\"node\">\n<title>6</title>\n<path fill=\"#39e581\" stroke=\"#000000\" d=\"M201,-53C201,-53 110,-53 110,-53 104,-53 98,-47 98,-41 98,-41 98,-12 98,-12 98,-6 104,0 110,0 110,0 201,0 201,0 207,0 213,-6 213,-12 213,-12 213,-41 213,-41 213,-47 207,-53 201,-53\"/>\n<text text-anchor=\"start\" x=\"126\" y=\"-37.8\" font-family=\"Helvetica,sans-Serif\" font-size=\"14.00\" fill=\"#000000\">gini = 0.0</text>\n<text text-anchor=\"start\" x=\"116\" y=\"-22.8\" font-family=\"Helvetica,sans-Serif\" font-size=\"14.00\" fill=\"#000000\">samples = 1</text>\n<text text-anchor=\"start\" x=\"106\" y=\"-7.8\" font-family=\"Helvetica,sans-Serif\" font-size=\"14.00\" fill=\"#000000\">value = [0, 1, 0]</text>\n</g>\n<!-- 5&#45;&gt;6 -->\n<g id=\"edge6\" class=\"edge\">\n<title>5&#45;&gt;6</title>\n<path fill=\"none\" stroke=\"#000000\" d=\"M198.2309,-88.9777C192.156,-80.0954 185.5979,-70.5067 179.4865,-61.5711\"/>\n<polygon fill=\"#000000\" stroke=\"#000000\" points=\"182.3286,-59.5267 173.7943,-53.2485 176.5507,-63.4785 182.3286,-59.5267\"/>\n</g>\n<!-- 7 -->\n<g id=\"node8\" class=\"node\">\n<title>7</title>\n<path fill=\"#8139e5\" stroke=\"#000000\" d=\"M334,-53C334,-53 243,-53 243,-53 237,-53 231,-47 231,-41 231,-41 231,-12 231,-12 231,-6 237,0 243,0 243,0 334,0 334,0 340,0 346,-6 346,-12 346,-12 346,-41 346,-41 346,-47 340,-53 334,-53\"/>\n<text text-anchor=\"start\" x=\"259\" y=\"-37.8\" font-family=\"Helvetica,sans-Serif\" font-size=\"14.00\" fill=\"#000000\">gini = 0.0</text>\n<text text-anchor=\"start\" x=\"249\" y=\"-22.8\" font-family=\"Helvetica,sans-Serif\" font-size=\"14.00\" fill=\"#000000\">samples = 1</text>\n<text text-anchor=\"start\" x=\"239\" y=\"-7.8\" font-family=\"Helvetica,sans-Serif\" font-size=\"14.00\" fill=\"#000000\">value = [0, 0, 1]</text>\n</g>\n<!-- 5&#45;&gt;7 -->\n<g id=\"edge7\" class=\"edge\">\n<title>5&#45;&gt;7</title>\n<path fill=\"none\" stroke=\"#000000\" d=\"M245.1217,-88.9777C251.2887,-80.0954 257.9461,-70.5067 264.1501,-61.5711\"/>\n<polygon fill=\"#000000\" stroke=\"#000000\" points=\"267.1003,-63.4589 269.9285,-53.2485 261.3503,-59.4666 267.1003,-63.4589\"/>\n</g>\n</g>\n</svg>\n"
          },
          "metadata": {
            "tags": []
          },
          "execution_count": 57
        },
        {
          "output_type": "display_data",
          "data": {
            "text/plain": [
              "<Figure size 432x432 with 0 Axes>"
            ]
          },
          "metadata": {
            "tags": []
          }
        }
      ]
    },
    {
      "cell_type": "markdown",
      "metadata": {
        "id": "4Nyz1S5T9Ga4",
        "colab_type": "text"
      },
      "source": [
        "**Boosting the model using ADA Boost Classifier**"
      ]
    },
    {
      "cell_type": "code",
      "metadata": {
        "id": "_MylFp2q9MXm",
        "colab_type": "code",
        "colab": {}
      },
      "source": [
        "from sklearn.ensemble import AdaBoostClassifier"
      ],
      "execution_count": null,
      "outputs": []
    },
    {
      "cell_type": "code",
      "metadata": {
        "id": "4U_bddZ19OZe",
        "colab_type": "code",
        "colab": {}
      },
      "source": [
        "abc = AdaBoostClassifier(DecisionTreeClassifier() , n_estimators= 15)"
      ],
      "execution_count": null,
      "outputs": []
    },
    {
      "cell_type": "code",
      "metadata": {
        "id": "KKYmsKEA9Qw7",
        "colab_type": "code",
        "colab": {
          "base_uri": "https://localhost:8080/",
          "height": 289
        },
        "outputId": "fe45a328-3565-477e-bcb3-723da6020648"
      },
      "source": [
        "abc.fit(data_x_train , data_y_train)"
      ],
      "execution_count": null,
      "outputs": [
        {
          "output_type": "execute_result",
          "data": {
            "text/plain": [
              "AdaBoostClassifier(algorithm='SAMME.R',\n",
              "                   base_estimator=DecisionTreeClassifier(ccp_alpha=0.0,\n",
              "                                                         class_weight=None,\n",
              "                                                         criterion='gini',\n",
              "                                                         max_depth=None,\n",
              "                                                         max_features=None,\n",
              "                                                         max_leaf_nodes=None,\n",
              "                                                         min_impurity_decrease=0.0,\n",
              "                                                         min_impurity_split=None,\n",
              "                                                         min_samples_leaf=1,\n",
              "                                                         min_samples_split=2,\n",
              "                                                         min_weight_fraction_leaf=0.0,\n",
              "                                                         presort='deprecated',\n",
              "                                                         random_state=None,\n",
              "                                                         splitter='best'),\n",
              "                   learning_rate=1.0, n_estimators=15, random_state=None)"
            ]
          },
          "metadata": {
            "tags": []
          },
          "execution_count": 60
        }
      ]
    },
    {
      "cell_type": "code",
      "metadata": {
        "id": "3YG3Y-iy9TLR",
        "colab_type": "code",
        "colab": {}
      },
      "source": [
        "pred_boost = abc.predict(data_x_test)"
      ],
      "execution_count": null,
      "outputs": []
    },
    {
      "cell_type": "code",
      "metadata": {
        "id": "g_x9AC4H9V86",
        "colab_type": "code",
        "colab": {
          "base_uri": "https://localhost:8080/",
          "height": 68
        },
        "outputId": "86ea13ad-a1f0-46b3-dd57-6fed925fc06b"
      },
      "source": [
        "tab_boost = confusion_matrix(pred_boost , data_y_test)\n",
        "tab_boost"
      ],
      "execution_count": null,
      "outputs": [
        {
          "output_type": "execute_result",
          "data": {
            "text/plain": [
              "array([[11,  0,  0],\n",
              "       [ 0, 13,  0],\n",
              "       [ 0,  0,  6]])"
            ]
          },
          "metadata": {
            "tags": []
          },
          "execution_count": 62
        }
      ]
    },
    {
      "cell_type": "code",
      "metadata": {
        "id": "2EDoRqnc9ZSn",
        "colab_type": "code",
        "colab": {
          "base_uri": "https://localhost:8080/",
          "height": 34
        },
        "outputId": "8e1cb76b-8122-4684-96d0-84c751b9f33f"
      },
      "source": [
        "acc1 = tab_boost.diagonal().sum() / tab_boost.sum() * 100\n",
        "acc1"
      ],
      "execution_count": null,
      "outputs": [
        {
          "output_type": "execute_result",
          "data": {
            "text/plain": [
              "100.0"
            ]
          },
          "metadata": {
            "tags": []
          },
          "execution_count": 63
        }
      ]
    },
    {
      "cell_type": "markdown",
      "metadata": {
        "id": "knTRbFia9bsF",
        "colab_type": "text"
      },
      "source": [
        "**Conclusion**\n",
        "\n",
        "**Model has been successfully built on desicion tree classifier.**\n",
        "\n",
        "**Visual representation has been done.**\n",
        "\n",
        "**Model builded comes out to be great model with accuracy of 100%.**\n",
        "\n",
        "**Boosting also has been done to the model using ada boost classifier which makes it further a excellent model for prediction of the new data set.**\n",
        "\n",
        "**Feeding new data/test data to this model will be a good option as shown above because it can predict right class values and also have high accuracy**"
      ]
    }
  ]
}